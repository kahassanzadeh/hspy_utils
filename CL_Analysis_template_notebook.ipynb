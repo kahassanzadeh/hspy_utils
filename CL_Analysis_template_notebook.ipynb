{
 "cells": [
  {
   "cell_type": "markdown",
   "source": [
    "#### This notebook is implemented by LMSC group at EPFL for analysis of CL maps with SEM-CL Attolight"
   ],
   "metadata": {
    "collapsed": false
   }
  },
  {
   "cell_type": "code",
   "execution_count": 1,
   "metadata": {
    "ExecuteTime": {
     "end_time": "2025-04-01T11:16:39.194691Z",
     "start_time": "2025-04-01T11:16:38.895144Z"
    }
   },
   "outputs": [
    {
     "ename": "ModuleNotFoundError",
     "evalue": "No module named 'HspyPrep'",
     "output_type": "error",
     "traceback": [
      "\u001B[0;31m---------------------------------------------------------------------------\u001B[0m",
      "\u001B[0;31mModuleNotFoundError\u001B[0m                       Traceback (most recent call last)",
      "Cell \u001B[0;32mIn[1], line 1\u001B[0m\n\u001B[0;32m----> 1\u001B[0m \u001B[38;5;28;01mimport\u001B[39;00m \u001B[38;5;21;01mHspyPrep\u001B[39;00m \u001B[38;5;28;01mas\u001B[39;00m \u001B[38;5;21;01mhsp\u001B[39;00m\n\u001B[1;32m      2\u001B[0m \u001B[38;5;28;01mimport\u001B[39;00m \u001B[38;5;21;01mmatplotlib\u001B[39;00m\u001B[38;5;21;01m.\u001B[39;00m\u001B[38;5;21;01mpyplot\u001B[39;00m \u001B[38;5;28;01mas\u001B[39;00m \u001B[38;5;21;01mplt\u001B[39;00m\n\u001B[1;32m      3\u001B[0m \u001B[38;5;28;01mimport\u001B[39;00m \u001B[38;5;21;01mnumpy\u001B[39;00m \u001B[38;5;28;01mas\u001B[39;00m \u001B[38;5;21;01mnp\u001B[39;00m\n",
      "\u001B[0;31mModuleNotFoundError\u001B[0m: No module named 'HspyPrep'"
     ]
    }
   ],
   "source": [
    "import HspyPrep as hsp\n",
    "import matplotlib.pyplot as plt\n",
    "import numpy as np\n",
    "import hyperspy.api as hs\n",
    "import pandas as pd\n",
    "import os"
   ]
  },
  {
   "cell_type": "markdown",
   "metadata": {},
   "source": [
    "## Importing the Data\n",
    "\n",
    "#### In this section you will be able to import your data to the jupyter notebook"
   ]
  },
  {
   "cell_type": "code",
   "execution_count": null,
   "metadata": {},
   "outputs": [],
   "source": [
    "## In this cell you will need to specify the path to the folder containing the data you want to analyze\n",
    "## This code will create a dictionary containing the paths to all the folders containing the data you want to analyze\n",
    "root_file_path = './mh_thick/'\n",
    "dict_of_files = dict()\n",
    "counter = 0\n",
    "for file in os.listdir(root_file_path):\n",
    "    if 'HYP' in file:\n",
    "        ## if the background spectra is in the file, set the contain_bg to True and if not set it to False\n",
    "        dict_of_files[file] = hsp.HspyPrep(root_file_path + file + '/', step=1, whole_seconds=64*64, contain_bg=False)\n",
    "\n",
    "print(dict_of_files)"
   ]
  },
  {
   "cell_type": "markdown",
   "metadata": {},
   "source": [
    "#### This cell will remove the background from the spectra and also it will remove noises"
   ]
  },
  {
   "cell_type": "code",
   "execution_count": null,
   "metadata": {},
   "outputs": [],
   "source": [
    "## kernel size for the median filter to remove noise from the data \n",
    "kernel_size = 13\n",
    "\n",
    "for key, hspyobj in dict_of_files.items():\n",
    "    hspyobj.remove_background()\n",
    "    hspyobj.apply_filter_noises(kernel_size=kernel_size)"
   ]
  },
  {
   "cell_type": "markdown",
   "metadata": {},
   "source": [
    "# Data Visualization\n",
    "\n",
    "### In this section each data can be visualized using the hspyprep library. You can see the spectra of your image through the map "
   ]
  },
  {
   "cell_type": "code",
   "execution_count": null,
   "metadata": {},
   "outputs": [],
   "source": [
    "# With this code you can just check the results with Hyperspy\n",
    "dict_of_files[\"HYP_name_of_the_file\"].get_hyperspy_obj().plot()\n",
    "# With this function you can plot the heat map of emissions \n",
    "dict_of_files[\"HYP_name_of_the_file\"].plot_heatmap(18,29, peak_ranges=(940, 1000))\n"
   ]
  },
  {
   "cell_type": "markdown",
   "source": [
    "## Gathered data Analysis\n",
    "\n",
    "In this section, all of the measurements that is conducted were gathered and a library would create all of the information about all the measurements together in various conditions "
   ],
   "metadata": {
    "collapsed": false
   }
  },
  {
   "cell_type": "code",
   "execution_count": null,
   "outputs": [],
   "source": [
    "import CondAns as cda\n",
    "\n",
    "# to this library you need to give the dictionary that is created before\n",
    "# This library process all the data within the dictionary. If you want to remove a specific experiment, you need to remove the key related to that experiment\n",
    "# If you have run the map_all_pixel function before, you can just set load_mapping tp True. In this case, map coordinates will be loaded to the object and no need to rerun the mapping part. \n",
    "\n",
    "test = cda.CondAns(dict_of_files, ref='HYP-THICK-PEELED-7KEV', load_mapping=True)"
   ],
   "metadata": {
    "collapsed": false
   }
  },
  {
   "cell_type": "code",
   "execution_count": null,
   "outputs": [],
   "source": [
    "# You need to run the mapping when you have a set of experiments. This will allow you to find the same location from all maps. \n",
    "test.map_all_pixels(11, 7,0.4, 'HYP-THICK-PEELED-7KEV')"
   ],
   "metadata": {
    "collapsed": false
   }
  },
  {
   "cell_type": "markdown",
   "source": [
    "Below You can find different functions that can plot and visualize all maps. Also with these codes you can simply save the plots or the fitting parameters. "
   ],
   "metadata": {
    "collapsed": false
   }
  },
  {
   "cell_type": "code",
   "execution_count": null,
   "outputs": [],
   "source": [
    "\n",
    "test.plot_all_pixels((20,10), save=True, filename= 'test')"
   ],
   "metadata": {
    "collapsed": false
   }
  },
  {
   "cell_type": "code",
   "execution_count": null,
   "outputs": [],
   "source": [
    "test.single_exp_run_plot('HYP-THICK-PEELED-7KEV', save=True, filename='test')"
   ],
   "metadata": {
    "collapsed": false
   }
  },
  {
   "cell_type": "code",
   "execution_count": null,
   "outputs": [],
   "source": [
    "test.plot_all_pixels_with_fitting((20,10), save=True, filename= 'test')"
   ],
   "metadata": {
    "collapsed": false
   }
  },
  {
   "cell_type": "code",
   "execution_count": null,
   "outputs": [],
   "source": [
    "test.single_exp_run_fitting('HYP-THICK-PEELED-7KEV', save=True, filename='test')"
   ],
   "metadata": {
    "collapsed": false
   }
  }
 ],
 "metadata": {
  "kernelspec": {
   "display_name": "tfenv",
   "language": "python",
   "name": "python3"
  },
  "language_info": {
   "codemirror_mode": {
    "name": "ipython",
    "version": 3
   },
   "file_extension": ".py",
   "mimetype": "text/x-python",
   "name": "python",
   "nbconvert_exporter": "python",
   "pygments_lexer": "ipython3",
   "version": "3.9.16"
  }
 },
 "nbformat": 4,
 "nbformat_minor": 2
}
